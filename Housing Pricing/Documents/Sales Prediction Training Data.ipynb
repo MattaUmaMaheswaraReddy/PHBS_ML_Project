{
 "cells": [
  {
   "cell_type": "code",
   "execution_count": 1,
   "metadata": {
    "collapsed": true
   },
   "outputs": [],
   "source": [
    "import pandas as pd\n",
    "import matplotlib.pyplot as plt\n",
    "import seaborn as sns\n",
    "import numpy as np\n",
    "\n",
    "# visualization\n",
    "import seaborn as sns\n",
    "import matplotlib.pyplot as plt\n",
    "%matplotlib inline\n",
    "\n",
    "import xlrd\n",
    "import xlwt\n",
    "import csv\n",
    "\n",
    "# machine learning\n",
    "from sklearn.linear_model import LogisticRegression\n",
    "from sklearn.svm import SVC, LinearSVC\n",
    "from sklearn.ensemble import RandomForestClassifier\n",
    "from sklearn.neighbors import KNeighborsClassifier\n",
    "from sklearn.naive_bayes import GaussianNB\n",
    "from sklearn.linear_model import Perceptron\n",
    "from sklearn.linear_model import SGDClassifier\n",
    "from sklearn.tree import DecisionTreeClassifier\n",
    "from sklearn.metrics import mean_absolute_error\n",
    "from sklearn.tree import DecisionTreeRegressor\n",
    "from sklearn.model_selection import train_test_split\n",
    "from scipy.stats import norm\n",
    "from sklearn.preprocessing import StandardScaler\n",
    "from scipy import stats\n"
   ]
  },
  {
   "cell_type": "code",
   "execution_count": 2,
   "metadata": {
    "collapsed": true
   },
   "outputs": [],
   "source": [
    "train_df = pd.read_csv('/Users/maheshreddy/Documents/GitHub Destop/PHBS_ML_Project/Housing Pricing/Data/train.csv')\n",
    "test_df = pd.read_csv('/Users/maheshreddy/Documents/GitHub Destop/PHBS_ML_Project/Housing Pricing/Data/test.csv')\n",
    "combine = [train_df, test_df]"
   ]
  },
  {
   "cell_type": "code",
   "execution_count": 3,
   "metadata": {},
   "outputs": [
    {
     "name": "stdout",
     "output_type": "stream",
     "text": [
      "[121500 150000 143000 ..., 180500  93500 260000]\n"
     ]
    }
   ],
   "source": [
    "#Running a basic model \n",
    "\n",
    "train_y = train_df.SalePrice\n",
    "predictor_cols = ['LotArea', 'OverallQual', 'OverallCond', 'YearBuilt', 'TotRmsAbvGrd']\n",
    "train_X = train_df[predictor_cols]\n",
    "\n",
    "#Random Forest\n",
    "\n",
    "random_forest = RandomForestClassifier()\n",
    "random_forest.fit(train_X, train_y)\n",
    "\n",
    "test_X = test_df[predictor_cols]\n",
    "predicted_prices = random_forest.predict(test_X)\n",
    "print(predicted_prices)"
   ]
  },
  {
   "cell_type": "code",
   "execution_count": 4,
   "metadata": {},
   "outputs": [
    {
     "name": "stdout",
     "output_type": "stream",
     "text": [
      "[121500 230000 159000 ..., 157900 126000 260000]\n"
     ]
    }
   ],
   "source": [
    "# Decision Tree Classifier\n",
    "\n",
    "decision_tree = DecisionTreeClassifier()\n",
    "decision_tree.fit(train_X, train_y)\n",
    "\n",
    "test_X = test_df[predictor_cols]\n",
    "predicted_prices = decision_tree.predict(test_X)\n",
    "print(predicted_prices)"
   ]
  },
  {
   "cell_type": "code",
   "execution_count": 5,
   "metadata": {
    "collapsed": true
   },
   "outputs": [],
   "source": [
    "# Decision Tree Regressor\n",
    "\n",
    "def get_mae(max_leaf_nodes, predictors_train, predictors_val, targ_train, targ_val):\n",
    "    model = DecisionTreeRegressor(max_leaf_nodes=max_leaf_nodes, random_state=0)\n",
    "    model.fit(predictors_train, targ_train)\n",
    "    preds_val = model.predict(predictors_val)\n",
    "    mae = mean_absolute_error(targ_val, preds_val)\n",
    "    return(mae)"
   ]
  },
  {
   "cell_type": "code",
   "execution_count": 6,
   "metadata": {},
   "outputs": [
    {
     "name": "stdout",
     "output_type": "stream",
     "text": [
      "Max leaf nodes: 5  \t\t Mean Absolute Error:  32224\n",
      "Max leaf nodes: 40  \t\t Mean Absolute Error:  28881\n",
      "Max leaf nodes: 41  \t\t Mean Absolute Error:  28825\n",
      "Max leaf nodes: 42  \t\t Mean Absolute Error:  28780\n",
      "Max leaf nodes: 43  \t\t Mean Absolute Error:  28597\n",
      "Max leaf nodes: 44  \t\t Mean Absolute Error:  28327\n",
      "Max leaf nodes: 45  \t\t Mean Absolute Error:  28265\n",
      "Max leaf nodes: 46  \t\t Mean Absolute Error:  27975\n",
      "Max leaf nodes: 47  \t\t Mean Absolute Error:  28083\n",
      "Max leaf nodes: 48  \t\t Mean Absolute Error:  28087\n",
      "Max leaf nodes: 49  \t\t Mean Absolute Error:  27919\n",
      "Max leaf nodes: 50  \t\t Mean Absolute Error:  27796\n",
      "Max leaf nodes: 51  \t\t Mean Absolute Error:  27895\n",
      "Max leaf nodes: 52  \t\t Mean Absolute Error:  28188\n",
      "Max leaf nodes: 53  \t\t Mean Absolute Error:  28137\n",
      "Max leaf nodes: 54  \t\t Mean Absolute Error:  28129\n",
      "Max leaf nodes: 55  \t\t Mean Absolute Error:  28161\n",
      "Max leaf nodes: 56  \t\t Mean Absolute Error:  28250\n",
      "Max leaf nodes: 57  \t\t Mean Absolute Error:  28366\n",
      "Max leaf nodes: 58  \t\t Mean Absolute Error:  28513\n",
      "Max leaf nodes: 59  \t\t Mean Absolute Error:  28513\n",
      "Max leaf nodes: 60  \t\t Mean Absolute Error:  28543\n",
      "Max leaf nodes: 70  \t\t Mean Absolute Error:  28396\n",
      "Max leaf nodes: 80  \t\t Mean Absolute Error:  27921\n",
      "Max leaf nodes: 90  \t\t Mean Absolute Error:  28026\n",
      "Max leaf nodes: 100  \t\t Mean Absolute Error:  28513\n",
      "Max leaf nodes: 500  \t\t Mean Absolute Error:  30147\n",
      "Max leaf nodes: 5000  \t\t Mean Absolute Error:  30596\n"
     ]
    }
   ],
   "source": [
    "# split data into training and validation data, for both predictors and target\n",
    "train_X1, val_X1, train_y1, val_y1 = train_test_split(train_X, train_y,random_state = 0)\n",
    "\n",
    "# compare MAE with differing values of max_leaf_nodes\n",
    "for max_leaf_nodes in [5, 40, 41, 42, 43, 44, 45, 46, 47, 48, 49, 50, 51, 52, 53, 54, 55, 56, 57, 58, 59, 60, 70, 80, 90, 100, 500, 5000]:\n",
    "    my_mae = get_mae(max_leaf_nodes, train_X1, val_X1, train_y1, val_y1)\n",
    "    print(\"Max leaf nodes: %d  \\t\\t Mean Absolute Error:  %d\" %(max_leaf_nodes, my_mae))"
   ]
  },
  {
   "cell_type": "code",
   "execution_count": null,
   "metadata": {},
   "outputs": [],
   "source": []
  },
  {
   "cell_type": "code",
   "execution_count": null,
   "metadata": {
    "collapsed": true
   },
   "outputs": [],
   "source": []
  },
  {
   "cell_type": "code",
   "execution_count": null,
   "metadata": {
    "collapsed": true
   },
   "outputs": [],
   "source": []
  }
 ],
 "metadata": {
  "kernelspec": {
   "display_name": "Python 3",
   "language": "python",
   "name": "python3"
  },
  "language_info": {
   "codemirror_mode": {
    "name": "ipython",
    "version": 3
   },
   "file_extension": ".py",
   "mimetype": "text/x-python",
   "name": "python",
   "nbconvert_exporter": "python",
   "pygments_lexer": "ipython3",
   "version": "3.6.3"
  }
 },
 "nbformat": 4,
 "nbformat_minor": 2
}
